{
 "cells": [
  {
   "cell_type": "code",
   "execution_count": 4,
   "id": "acknowledged-financing",
   "metadata": {},
   "outputs": [],
   "source": [
    "import numpy as np\n",
    "import pandas as pd\n",
    "import matplotlib.pyplot as plt\n",
    "import seaborn as sns\n",
    "from sklearn import datasets, linear_model\n",
    "from sklearn.metrics import mean_squared_error, r2_score"
   ]
  },
  {
   "cell_type": "code",
   "execution_count": 54,
   "id": "velvet-program",
   "metadata": {},
   "outputs": [],
   "source": [
    "#ŶŷȲȳ\n",
    "df = pd.read_excel(\"Boekenlijst.xlsx\")"
   ]
  },
  {
   "cell_type": "code",
   "execution_count": 55,
   "id": "collect-policy",
   "metadata": {},
   "outputs": [
    {
     "data": {
      "text/html": [
       "<div>\n",
       "<style scoped>\n",
       "    .dataframe tbody tr th:only-of-type {\n",
       "        vertical-align: middle;\n",
       "    }\n",
       "\n",
       "    .dataframe tbody tr th {\n",
       "        vertical-align: top;\n",
       "    }\n",
       "\n",
       "    .dataframe thead th {\n",
       "        text-align: right;\n",
       "    }\n",
       "</style>\n",
       "<table border=\"1\" class=\"dataframe\">\n",
       "  <thead>\n",
       "    <tr style=\"text-align: right;\">\n",
       "      <th></th>\n",
       "      <th>ID</th>\n",
       "      <th>Titel</th>\n",
       "      <th>Aantal Bladzijde</th>\n",
       "      <th>Dikte in mm</th>\n",
       "    </tr>\n",
       "  </thead>\n",
       "  <tbody>\n",
       "    <tr>\n",
       "      <th>0</th>\n",
       "      <td>1</td>\n",
       "      <td>Werken met logistiek</td>\n",
       "      <td>470</td>\n",
       "      <td>22</td>\n",
       "    </tr>\n",
       "    <tr>\n",
       "      <th>1</th>\n",
       "      <td>2</td>\n",
       "      <td>Dark Money</td>\n",
       "      <td>449</td>\n",
       "      <td>37</td>\n",
       "    </tr>\n",
       "    <tr>\n",
       "      <th>2</th>\n",
       "      <td>3</td>\n",
       "      <td>CRM in de Praktijk</td>\n",
       "      <td>295</td>\n",
       "      <td>24</td>\n",
       "    </tr>\n",
       "    <tr>\n",
       "      <th>3</th>\n",
       "      <td>4</td>\n",
       "      <td>Organisatie en Management</td>\n",
       "      <td>528</td>\n",
       "      <td>26</td>\n",
       "    </tr>\n",
       "    <tr>\n",
       "      <th>4</th>\n",
       "      <td>5</td>\n",
       "      <td>1491</td>\n",
       "      <td>549</td>\n",
       "      <td>29</td>\n",
       "    </tr>\n",
       "    <tr>\n",
       "      <th>5</th>\n",
       "      <td>6</td>\n",
       "      <td>The shallows</td>\n",
       "      <td>280</td>\n",
       "      <td>19</td>\n",
       "    </tr>\n",
       "    <tr>\n",
       "      <th>6</th>\n",
       "      <td>7</td>\n",
       "      <td>Ready player one</td>\n",
       "      <td>372</td>\n",
       "      <td>24</td>\n",
       "    </tr>\n",
       "    <tr>\n",
       "      <th>7</th>\n",
       "      <td>8</td>\n",
       "      <td>21 lessons in the 21th century</td>\n",
       "      <td>352</td>\n",
       "      <td>28</td>\n",
       "    </tr>\n",
       "    <tr>\n",
       "      <th>8</th>\n",
       "      <td>9</td>\n",
       "      <td>Aninal Farm</td>\n",
       "      <td>102</td>\n",
       "      <td>7</td>\n",
       "    </tr>\n",
       "    <tr>\n",
       "      <th>9</th>\n",
       "      <td>10</td>\n",
       "      <td>Nineteen eighty-four</td>\n",
       "      <td>325</td>\n",
       "      <td>27</td>\n",
       "    </tr>\n",
       "    <tr>\n",
       "      <th>10</th>\n",
       "      <td>11</td>\n",
       "      <td>Brave New World</td>\n",
       "      <td>229</td>\n",
       "      <td>19</td>\n",
       "    </tr>\n",
       "    <tr>\n",
       "      <th>11</th>\n",
       "      <td>12</td>\n",
       "      <td>Bevroren goud</td>\n",
       "      <td>368</td>\n",
       "      <td>29</td>\n",
       "    </tr>\n",
       "    <tr>\n",
       "      <th>12</th>\n",
       "      <td>13</td>\n",
       "      <td>Manufacturing consent</td>\n",
       "      <td>412</td>\n",
       "      <td>28</td>\n",
       "    </tr>\n",
       "    <tr>\n",
       "      <th>13</th>\n",
       "      <td>14</td>\n",
       "      <td>Thinking, fast and slow</td>\n",
       "      <td>500</td>\n",
       "      <td>24</td>\n",
       "    </tr>\n",
       "    <tr>\n",
       "      <th>14</th>\n",
       "      <td>15</td>\n",
       "      <td>Mythos</td>\n",
       "      <td>442</td>\n",
       "      <td>39</td>\n",
       "    </tr>\n",
       "    <tr>\n",
       "      <th>15</th>\n",
       "      <td>16</td>\n",
       "      <td>This time is different</td>\n",
       "      <td>459</td>\n",
       "      <td>35</td>\n",
       "    </tr>\n",
       "    <tr>\n",
       "      <th>16</th>\n",
       "      <td>17</td>\n",
       "      <td>Hooked</td>\n",
       "      <td>242</td>\n",
       "      <td>25</td>\n",
       "    </tr>\n",
       "    <tr>\n",
       "      <th>17</th>\n",
       "      <td>18</td>\n",
       "      <td>Reizen zonder John</td>\n",
       "      <td>573</td>\n",
       "      <td>40</td>\n",
       "    </tr>\n",
       "    <tr>\n",
       "      <th>18</th>\n",
       "      <td>19</td>\n",
       "      <td>De voedselzandloper</td>\n",
       "      <td>366</td>\n",
       "      <td>33</td>\n",
       "    </tr>\n",
       "    <tr>\n",
       "      <th>19</th>\n",
       "      <td>20</td>\n",
       "      <td>Het einde van de eenzaamheid</td>\n",
       "      <td>300</td>\n",
       "      <td>31</td>\n",
       "    </tr>\n",
       "  </tbody>\n",
       "</table>\n",
       "</div>"
      ],
      "text/plain": [
       "    ID                           Titel  Aantal Bladzijde  Dikte in mm\n",
       "0    1            Werken met logistiek               470           22\n",
       "1    2                      Dark Money               449           37\n",
       "2    3              CRM in de Praktijk               295           24\n",
       "3    4       Organisatie en Management               528           26\n",
       "4    5                            1491               549           29\n",
       "5    6                    The shallows               280           19\n",
       "6    7                Ready player one               372           24\n",
       "7    8  21 lessons in the 21th century               352           28\n",
       "8    9                     Aninal Farm               102            7\n",
       "9   10            Nineteen eighty-four               325           27\n",
       "10  11                 Brave New World               229           19\n",
       "11  12                   Bevroren goud               368           29\n",
       "12  13           Manufacturing consent               412           28\n",
       "13  14         Thinking, fast and slow               500           24\n",
       "14  15                          Mythos               442           39\n",
       "15  16          This time is different               459           35\n",
       "16  17                          Hooked               242           25\n",
       "17  18              Reizen zonder John               573           40\n",
       "18  19             De voedselzandloper               366           33\n",
       "19  20    Het einde van de eenzaamheid               300           31"
      ]
     },
     "execution_count": 55,
     "metadata": {},
     "output_type": "execute_result"
    }
   ],
   "source": [
    "df.head(20)"
   ]
  },
  {
   "cell_type": "markdown",
   "id": "otherwise-bangkok",
   "metadata": {},
   "source": [
    "<h1>1. Maak een scatterplot</h1>"
   ]
  },
  {
   "cell_type": "code",
   "execution_count": 80,
   "id": "rational-australia",
   "metadata": {},
   "outputs": [
    {
     "data": {
      "text/plain": [
       "<AxesSubplot:xlabel='Aantal Bladzijde', ylabel='Dikte in mm'>"
      ]
     },
     "execution_count": 80,
     "metadata": {},
     "output_type": "execute_result"
    },
    {
     "data": {
      "image/png": "[encoded data removed]",
      "text/plain": [
       "<Figure size 432x288 with 1 Axes>"
      ]
     },
     "metadata": {
      "needs_background": "light"
     },
     "output_type": "display_data"
    }
   ],
   "source": [
    "sns.regplot(x=df['Aantal Bladzijde'], y=df['Dikte in mm'], fit_reg=False)"
   ]
  },
  {
   "cell_type": "markdown",
   "id": "surprising-noise",
   "metadata": {},
   "source": [
    "<h1>2. Lineare Regressie</h1>"
   ]
  },
  {
   "cell_type": "code",
   "execution_count": 68,
   "id": "comic-hotel",
   "metadata": {},
   "outputs": [],
   "source": [
    "X = df['Aantal Bladzijde']\n",
    "y = df['Dikte in mm']"
   ]
  },
  {
   "cell_type": "code",
   "execution_count": 82,
   "id": "liberal-database",
   "metadata": {},
   "outputs": [
    {
     "name": "stdout",
     "output_type": "stream",
     "text": [
      "380.65 27.3\n"
     ]
    }
   ],
   "source": [
    "xmean = np.mean(X)\n",
    "ymean = np.mean(y)\n",
    "print(xmean, ymean)"
   ]
  },
  {
   "cell_type": "code",
   "execution_count": 98,
   "id": "premier-springfield",
   "metadata": {},
   "outputs": [
    {
     "data": {
      "text/html": [
       "<div>\n",
       "<style scoped>\n",
       "    .dataframe tbody tr th:only-of-type {\n",
       "        vertical-align: middle;\n",
       "    }\n",
       "\n",
       "    .dataframe tbody tr th {\n",
       "        vertical-align: top;\n",
       "    }\n",
       "\n",
       "    .dataframe thead th {\n",
       "        text-align: right;\n",
       "    }\n",
       "</style>\n",
       "<table border=\"1\" class=\"dataframe\">\n",
       "  <thead>\n",
       "    <tr style=\"text-align: right;\">\n",
       "      <th></th>\n",
       "      <th>ID</th>\n",
       "      <th>Titel</th>\n",
       "      <th>Aantal Bladzijde</th>\n",
       "      <th>Dikte in mm</th>\n",
       "      <th>xycov</th>\n",
       "      <th>xvar</th>\n",
       "    </tr>\n",
       "  </thead>\n",
       "  <tbody>\n",
       "    <tr>\n",
       "      <th>0</th>\n",
       "      <td>1</td>\n",
       "      <td>Werken met logistiek</td>\n",
       "      <td>470</td>\n",
       "      <td>22</td>\n",
       "      <td>-473.555</td>\n",
       "      <td>7983.4225</td>\n",
       "    </tr>\n",
       "    <tr>\n",
       "      <th>1</th>\n",
       "      <td>2</td>\n",
       "      <td>Dark Money</td>\n",
       "      <td>449</td>\n",
       "      <td>37</td>\n",
       "      <td>662.995</td>\n",
       "      <td>4671.7225</td>\n",
       "    </tr>\n",
       "    <tr>\n",
       "      <th>2</th>\n",
       "      <td>3</td>\n",
       "      <td>CRM in de Praktijk</td>\n",
       "      <td>295</td>\n",
       "      <td>24</td>\n",
       "      <td>282.645</td>\n",
       "      <td>7335.9225</td>\n",
       "    </tr>\n",
       "    <tr>\n",
       "      <th>3</th>\n",
       "      <td>4</td>\n",
       "      <td>Organisatie en Management</td>\n",
       "      <td>528</td>\n",
       "      <td>26</td>\n",
       "      <td>-191.555</td>\n",
       "      <td>21712.0225</td>\n",
       "    </tr>\n",
       "    <tr>\n",
       "      <th>4</th>\n",
       "      <td>5</td>\n",
       "      <td>1491</td>\n",
       "      <td>549</td>\n",
       "      <td>29</td>\n",
       "      <td>286.195</td>\n",
       "      <td>28341.7225</td>\n",
       "    </tr>\n",
       "    <tr>\n",
       "      <th>5</th>\n",
       "      <td>6</td>\n",
       "      <td>The shallows</td>\n",
       "      <td>280</td>\n",
       "      <td>19</td>\n",
       "      <td>835.395</td>\n",
       "      <td>10130.4225</td>\n",
       "    </tr>\n",
       "    <tr>\n",
       "      <th>6</th>\n",
       "      <td>7</td>\n",
       "      <td>Ready player one</td>\n",
       "      <td>372</td>\n",
       "      <td>24</td>\n",
       "      <td>28.545</td>\n",
       "      <td>74.8225</td>\n",
       "    </tr>\n",
       "    <tr>\n",
       "      <th>7</th>\n",
       "      <td>8</td>\n",
       "      <td>21 lessons in the 21th century</td>\n",
       "      <td>352</td>\n",
       "      <td>28</td>\n",
       "      <td>-20.055</td>\n",
       "      <td>820.8225</td>\n",
       "    </tr>\n",
       "    <tr>\n",
       "      <th>8</th>\n",
       "      <td>9</td>\n",
       "      <td>Aninal Farm</td>\n",
       "      <td>102</td>\n",
       "      <td>7</td>\n",
       "      <td>5656.595</td>\n",
       "      <td>77645.8225</td>\n",
       "    </tr>\n",
       "    <tr>\n",
       "      <th>9</th>\n",
       "      <td>10</td>\n",
       "      <td>Nineteen eighty-four</td>\n",
       "      <td>325</td>\n",
       "      <td>27</td>\n",
       "      <td>16.695</td>\n",
       "      <td>3096.9225</td>\n",
       "    </tr>\n",
       "    <tr>\n",
       "      <th>10</th>\n",
       "      <td>11</td>\n",
       "      <td>Brave New World</td>\n",
       "      <td>229</td>\n",
       "      <td>19</td>\n",
       "      <td>1258.695</td>\n",
       "      <td>22997.7225</td>\n",
       "    </tr>\n",
       "    <tr>\n",
       "      <th>11</th>\n",
       "      <td>12</td>\n",
       "      <td>Bevroren goud</td>\n",
       "      <td>368</td>\n",
       "      <td>29</td>\n",
       "      <td>-21.505</td>\n",
       "      <td>160.0225</td>\n",
       "    </tr>\n",
       "    <tr>\n",
       "      <th>12</th>\n",
       "      <td>13</td>\n",
       "      <td>Manufacturing consent</td>\n",
       "      <td>412</td>\n",
       "      <td>28</td>\n",
       "      <td>21.945</td>\n",
       "      <td>982.8225</td>\n",
       "    </tr>\n",
       "    <tr>\n",
       "      <th>13</th>\n",
       "      <td>14</td>\n",
       "      <td>Thinking, fast and slow</td>\n",
       "      <td>500</td>\n",
       "      <td>24</td>\n",
       "      <td>-393.855</td>\n",
       "      <td>14244.4225</td>\n",
       "    </tr>\n",
       "    <tr>\n",
       "      <th>14</th>\n",
       "      <td>15</td>\n",
       "      <td>Mythos</td>\n",
       "      <td>442</td>\n",
       "      <td>39</td>\n",
       "      <td>717.795</td>\n",
       "      <td>3763.8225</td>\n",
       "    </tr>\n",
       "    <tr>\n",
       "      <th>15</th>\n",
       "      <td>16</td>\n",
       "      <td>This time is different</td>\n",
       "      <td>459</td>\n",
       "      <td>35</td>\n",
       "      <td>603.295</td>\n",
       "      <td>6138.7225</td>\n",
       "    </tr>\n",
       "    <tr>\n",
       "      <th>16</th>\n",
       "      <td>17</td>\n",
       "      <td>Hooked</td>\n",
       "      <td>242</td>\n",
       "      <td>25</td>\n",
       "      <td>318.895</td>\n",
       "      <td>19223.8225</td>\n",
       "    </tr>\n",
       "    <tr>\n",
       "      <th>17</th>\n",
       "      <td>18</td>\n",
       "      <td>Reizen zonder John</td>\n",
       "      <td>573</td>\n",
       "      <td>40</td>\n",
       "      <td>2442.845</td>\n",
       "      <td>36998.5225</td>\n",
       "    </tr>\n",
       "    <tr>\n",
       "      <th>18</th>\n",
       "      <td>19</td>\n",
       "      <td>De voedselzandloper</td>\n",
       "      <td>366</td>\n",
       "      <td>33</td>\n",
       "      <td>-83.505</td>\n",
       "      <td>214.6225</td>\n",
       "    </tr>\n",
       "    <tr>\n",
       "      <th>19</th>\n",
       "      <td>20</td>\n",
       "      <td>Het einde van de eenzaamheid</td>\n",
       "      <td>300</td>\n",
       "      <td>31</td>\n",
       "      <td>-298.405</td>\n",
       "      <td>6504.4225</td>\n",
       "    </tr>\n",
       "  </tbody>\n",
       "</table>\n",
       "</div>"
      ],
      "text/plain": [
       "    ID                           Titel  Aantal Bladzijde  Dikte in mm  \\\n",
       "0    1            Werken met logistiek               470           22   \n",
       "1    2                      Dark Money               449           37   \n",
       "2    3              CRM in de Praktijk               295           24   \n",
       "3    4       Organisatie en Management               528           26   \n",
       "4    5                            1491               549           29   \n",
       "5    6                    The shallows               280           19   \n",
       "6    7                Ready player one               372           24   \n",
       "7    8  21 lessons in the 21th century               352           28   \n",
       "8    9                     Aninal Farm               102            7   \n",
       "9   10            Nineteen eighty-four               325           27   \n",
       "10  11                 Brave New World               229           19   \n",
       "11  12                   Bevroren goud               368           29   \n",
       "12  13           Manufacturing consent               412           28   \n",
       "13  14         Thinking, fast and slow               500           24   \n",
       "14  15                          Mythos               442           39   \n",
       "15  16          This time is different               459           35   \n",
       "16  17                          Hooked               242           25   \n",
       "17  18              Reizen zonder John               573           40   \n",
       "18  19             De voedselzandloper               366           33   \n",
       "19  20    Het einde van de eenzaamheid               300           31   \n",
       "\n",
       "       xycov        xvar  \n",
       "0   -473.555   7983.4225  \n",
       "1    662.995   4671.7225  \n",
       "2    282.645   7335.9225  \n",
       "3   -191.555  21712.0225  \n",
       "4    286.195  28341.7225  \n",
       "5    835.395  10130.4225  \n",
       "6     28.545     74.8225  \n",
       "7    -20.055    820.8225  \n",
       "8   5656.595  77645.8225  \n",
       "9     16.695   3096.9225  \n",
       "10  1258.695  22997.7225  \n",
       "11   -21.505    160.0225  \n",
       "12    21.945    982.8225  \n",
       "13  -393.855  14244.4225  \n",
       "14   717.795   3763.8225  \n",
       "15   603.295   6138.7225  \n",
       "16   318.895  19223.8225  \n",
       "17  2442.845  36998.5225  \n",
       "18   -83.505    214.6225  \n",
       "19  -298.405   6504.4225  "
      ]
     },
     "execution_count": 98,
     "metadata": {},
     "output_type": "execute_result"
    }
   ],
   "source": [
    "df['xycov'] = (df['Aantal Bladzijde'] - xmean) * (df['Dikte in mm'] - ymean)\n",
    "df['xvar'] = (df['Aantal Bladzijde'] - xmean)**2\n",
    "df.head(20)"
   ]
  },
  {
   "cell_type": "code",
   "execution_count": 84,
   "id": "ceramic-limit",
   "metadata": {},
   "outputs": [
    {
     "name": "stdout",
     "output_type": "stream",
     "text": [
      "0.042667708750888836\n"
     ]
    }
   ],
   "source": [
    "beta = df['xycov'].sum() / df['xvar'].sum()\n",
    "print(beta)"
   ]
  },
  {
   "cell_type": "code",
   "execution_count": 91,
   "id": "grave-festival",
   "metadata": {},
   "outputs": [
    {
     "name": "stdout",
     "output_type": "stream",
     "text": [
      "11.058536663974166\n"
     ]
    }
   ],
   "source": [
    "alpha = ymean - (beta * xmean)\n",
    "print(alpha)"
   ]
  },
  {
   "cell_type": "markdown",
   "id": "heard-notification",
   "metadata": {},
   "source": [
    "<h1>3. Teken de regressielijn</h1>"
   ]
  },
  {
   "cell_type": "code",
   "execution_count": 89,
   "id": "hungry-reading",
   "metadata": {},
   "outputs": [],
   "source": [
    "ypred = alpha + beta * X"
   ]
  },
  {
   "cell_type": "code",
   "execution_count": 86,
   "id": "exotic-musical",
   "metadata": {},
   "outputs": [
    {
     "data": {
      "image/png": "[encoded data removed]",
      "text/plain": [
       "<Figure size 864x432 with 1 Axes>"
      ]
     },
     "metadata": {
      "needs_background": "light"
     },
     "output_type": "display_data"
    }
   ],
   "source": [
    "plt.figure(figsize=(12, 6))\n",
    "plt.plot(X, ypred)     # regressie lijn\n",
    "plt.plot(X, y, 'ro')   # scatter plot\n",
    "plt.title('Werkelijk vs. Voorspeld')\n",
    "plt.xlabel('X: Aantal bladzijde')\n",
    "plt.ylabel('y: Dikte in mm')\n",
    "\n",
    "plt.show()"
   ]
  },
  {
   "cell_type": "markdown",
   "id": "executive-sponsorship",
   "metadata": {},
   "source": [
    "<h1>4. Voer een voorspelling uit</h1>"
   ]
  },
  {
   "cell_type": "code",
   "execution_count": 95,
   "id": "literary-ireland",
   "metadata": {},
   "outputs": [
    {
     "data": {
      "text/plain": [
       "15.32530753906305"
      ]
     },
     "execution_count": 95,
     "metadata": {},
     "output_type": "execute_result"
    }
   ],
   "source": [
    "alpha + beta * 100 # 100 staat voor 100 bladzijdes"
   ]
  },
  {
   "cell_type": "code",
   "execution_count": 97,
   "id": "introductory-paste",
   "metadata": {},
   "outputs": [
    {
     "data": {
      "text/plain": [
       "96.39395416575184"
      ]
     },
     "execution_count": 97,
     "metadata": {},
     "output_type": "execute_result"
    }
   ],
   "source": [
    "alpha + beta * 2000 # 2000 staat voor 2000 bladzijdes"
   ]
  },
  {
   "cell_type": "markdown",
   "id": "blind-integral",
   "metadata": {},
   "source": [
    "<h1>5. Geïnterpoleerde waarde vs Geëxtrapoleerde waarde</h1>"
   ]
  },
  {
   "cell_type": "markdown",
   "id": "attached-dressing",
   "metadata": {},
   "source": [
    "<b>Zowel 100 als 2000 zijn geëxtrapoleerde waardes</b><br>\n",
    "<b>Hieronder een geïnterpoleerde waarde</b>"
   ]
  },
  {
   "cell_type": "code",
   "execution_count": 99,
   "id": "fitted-garbage",
   "metadata": {},
   "outputs": [
    {
     "data": {
      "text/plain": [
       "23.901516997991706"
      ]
     },
     "execution_count": 99,
     "metadata": {},
     "output_type": "execute_result"
    }
   ],
   "source": [
    "alpha + beta * 301 # 301 staat voor 301 bladzijdes"
   ]
  }
 ],
 "metadata": {
  "kernelspec": {
   "display_name": "Python 3",
   "language": "python",
   "name": "python3"
  },
  "language_info": {
   "codemirror_mode": {
    "name": "ipython",
    "version": 3
   },
   "file_extension": ".py",
   "mimetype": "text/x-python",
   "name": "python",
   "nbconvert_exporter": "python",
   "pygments_lexer": "ipython3",
   "version": "3.7.9"
  }
 },
 "nbformat": 4,
 "nbformat_minor": 5
}
